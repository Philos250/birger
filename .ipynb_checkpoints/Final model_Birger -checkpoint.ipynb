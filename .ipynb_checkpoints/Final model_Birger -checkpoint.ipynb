{
 "cells": [
  {
   "cell_type": "code",
   "execution_count": 7,
   "id": "c8113078",
   "metadata": {},
   "outputs": [],
   "source": [
    "from pathlib import Path  # Python Standard Library\n",
    "import pandas as pd\n",
    "import matplotlib.pyplot as plt\n",
    "import seaborn as sns\n",
    "import warnings\n",
    "warnings.simplefilter(\"ignore\")"
   ]
  },
  {
   "cell_type": "code",
   "execution_count": 8,
   "id": "696cd43d",
   "metadata": {},
   "outputs": [],
   "source": [
    "# Read Excel Dummy data from BIRGER called SST-Report-Practicum Dummy Data.xlsx\n",
    "file_path = \"C:\\\\Users\\\\Savage\\\\Desktop\\\\BIRGER\\\\SST-Report-Practicum Dummy Data.xlsx\"\n",
    "df = pd.read_excel(file_path, engine=\"openpyxl\", sheet_name=\"RAW\", nrows=3402)"
   ]
  },
  {
   "cell_type": "code",
   "execution_count": 9,
   "id": "554e638b",
   "metadata": {},
   "outputs": [
    {
     "data": {
      "application/vnd.jupyter.widget-view+json": {
       "model_id": "aa2ff8338af64dfe9dd82c76963557fa",
       "version_major": 2,
       "version_minor": 0
      },
      "text/plain": [
       "Text(value='', description='Subject:', placeholder='Enter a subject')"
      ]
     },
     "metadata": {},
     "output_type": "display_data"
    },
    {
     "data": {
      "application/vnd.jupyter.widget-view+json": {
       "model_id": "74ca98b3237f4167a1e730adf9e18724",
       "version_major": 2,
       "version_minor": 0
      },
      "text/plain": [
       "Output()"
      ]
     },
     "metadata": {},
     "output_type": "display_data"
    }
   ],
   "source": [
    "import pandas as pd\n",
    "import numpy as np\n",
    "import ipywidgets as widgets\n",
    "from IPython.display import display\n",
    "\n",
    "# Sample data\n",
    "technicians = np.array(['Technician 4', 'Technician 1', 'Technician 3', 'Technician 5', 'Technician 2', 'Technician Sey', 'Technician Rod'], dtype=object)\n",
    "subjects = np.array(['CashHandler', 'GBRU', 'Idle/Freeze', 'Card Reader', 'Receipt printer', 'Cassette', 'Dispencer', 'Application issue', 'Physical Check', 'Stock Count', 'Hard Disk', 'SCPM', 'Bunch Note Acceptor BNA', 'Pick Modules', 'SPS', 'Forex', 'PM', 'Door Lock', 'Journal printer', 'Retrieve Log', 'Advert panel', 'Display Faulty', 'Presenter', 'GOP', 'EPP', 'E-journal', 'Software Installation patch', 'Envelope Dispenser', 'Vandalism', 'Estoril Pc Core', 'FDK', 'Fascia', 'Envelope Depository', 'No Power', 'Operator Panel', 'HSM', 'PC Core', 'Communication issue', 'Vandal Glass', 'Encryptor', 'Combination Lock', 'S2 Media Dispenser', 'Harness', 'Contactless Card Reader', 'Pin Guard', 'Collect Parts', 'Commissioning', 'Decommissioning'], dtype=object)\n",
    "\n",
    "data = {'Technician': np.random.choice(technicians, 100),\n",
    "        'Subject': np.random.choice(subjects, 100)}\n",
    "df2 = pd.DataFrame(data)\n",
    "\n",
    "# Build the recommender model\n",
    "technician_subject_counts = df2.groupby(['Technician', 'Subject']).size().reset_index(name='Counts')\n",
    "\n",
    "# Create interactive widgets\n",
    "subject_input = widgets.Text(\n",
    "    value='',\n",
    "    placeholder='Enter a subject',\n",
    "    description='Subject:'\n",
    ")\n",
    "\n",
    "output = widgets.Output()\n",
    "\n",
    "def suggest_technician(change):\n",
    "    output.clear_output()\n",
    "    subject = subject_input.value\n",
    "    if subject:\n",
    "        subject_counts = technician_subject_counts[technician_subject_counts['Subject'] == subject]\n",
    "        with output:\n",
    "            if not subject_counts.empty:\n",
    "                most_attended_technician = subject_counts.loc[subject_counts['Counts'].idxmax()]['Technician']\n",
    "                print(f\"For subject '{subject}', suggested technician is: {most_attended_technician}\")\n",
    "            else:\n",
    "                print(f\"No attendance records for the specified subject.\")\n",
    "\n",
    "# Attach the observer to the input field\n",
    "subject_input.observe(suggest_technician, names='value')\n",
    "\n",
    "display(subject_input, output)"
   ]
  },
  {
   "cell_type": "code",
   "execution_count": 10,
   "id": "d936d97d",
   "metadata": {},
   "outputs": [],
   "source": [
    "# pip install fuzzywuzzy"
   ]
  },
  {
   "cell_type": "code",
   "execution_count": 11,
   "id": "e5960b95",
   "metadata": {},
   "outputs": [
    {
     "data": {
      "application/vnd.jupyter.widget-view+json": {
       "model_id": "66e6f91abecc434883fc1883bb805d6d",
       "version_major": 2,
       "version_minor": 0
      },
      "text/plain": [
       "Text(value='', description='Subject:', placeholder='Enter a subject')"
      ]
     },
     "metadata": {},
     "output_type": "display_data"
    },
    {
     "data": {
      "application/vnd.jupyter.widget-view+json": {
       "model_id": "b300e99919d644838c26d081a416d0a9",
       "version_major": 2,
       "version_minor": 0
      },
      "text/plain": [
       "Output()"
      ]
     },
     "metadata": {},
     "output_type": "display_data"
    }
   ],
   "source": [
    "import pandas as pd\n",
    "import numpy as np\n",
    "import ipywidgets as widgets\n",
    "from IPython.display import display\n",
    "from fuzzywuzzy import process\n",
    "\n",
    "# Sample data\n",
    "technicians = np.array(['Technician 4', 'Technician 1', 'Technician 3', 'Technician 5', 'Technician 2', 'Technician Sey', 'Technician Rod'], dtype=object)\n",
    "subjects = np.array(['CashHandler', 'GBRU', 'Idle/Freeze', 'Card Reader', 'Receipt printer', 'Cassette', 'Dispencer', 'Application issue', 'Physical Check', 'Stock Count', 'Hard Disk', 'SCPM', 'Bunch Note Acceptor BNA', 'Pick Modules', 'SPS', 'Forex', 'PM', 'Door Lock', 'Journal printer', 'Retrieve Log', 'Advert panel', 'Display Faulty', 'Presenter', 'GOP', 'EPP', 'E-journal', 'Software Installation patch', 'Envelope Dispenser', 'Vandalism', 'Estoril Pc Core', 'FDK', 'Fascia', 'Envelope Depository', 'No Power', 'Operator Panel', 'HSM', 'PC Core', 'Communication issue', 'Vandal Glass', 'Encryptor', 'Combination Lock', 'S2 Media Dispenser', 'Harness', 'Contactless Card Reader', 'Pin Guard', 'Collect Parts', 'Commissioning', 'Decommissioning'], dtype=object)\n",
    "\n",
    "data = {'Technician': np.random.choice(technicians, 100),\n",
    "        'Subject': np.random.choice(subjects, 100)}\n",
    "df2 = pd.DataFrame(data)\n",
    "\n",
    "# Build the recommender model\n",
    "technician_subject_counts = df2.groupby(['Technician', 'Subject']).size().reset_index(name='Counts')\n",
    "\n",
    "# Create interactive widgets\n",
    "subject_input = widgets.Text(\n",
    "    value='',\n",
    "    placeholder='Enter a subject',\n",
    "    description='Subject:'\n",
    ")\n",
    "\n",
    "output = widgets.Output()\n",
    "\n",
    "def suggest_technician(change):\n",
    "    output.clear_output()\n",
    "    subject = subject_input.value\n",
    "    if subject:\n",
    "        # Find the most similar subjects\n",
    "        similar_subjects = process.extract(subject, subjects, limit=5)\n",
    "        similar_subjects = [sim_subject for sim_subject, _ in similar_subjects]\n",
    "\n",
    "        # Filter the attendance records for similar subjects\n",
    "        similar_subject_counts = technician_subject_counts[technician_subject_counts['Subject'].isin(similar_subjects)]\n",
    "\n",
    "        with output:\n",
    "            if not similar_subject_counts.empty:\n",
    "                # Find the technician who attended the most similar subjects\n",
    "                most_attended_technician = similar_subject_counts.loc[similar_subject_counts['Counts'].idxmax()]['Technician']\n",
    "                print(f\"For subject '{subject}', suggested technician is: {most_attended_technician}\")\n",
    "            else:\n",
    "                print(f\"No attendance records for subjects similar to '{subject}'.\")\n",
    "\n",
    "# Attach the observer to the input field\n",
    "subject_input.observe(suggest_technician, names='value')\n",
    "\n",
    "display(subject_input, output)"
   ]
  },
  {
   "cell_type": "code",
   "execution_count": 6,
   "id": "079158ad",
   "metadata": {},
   "outputs": [
    {
     "data": {
      "application/vnd.jupyter.widget-view+json": {
       "model_id": "fc4c8a039500421582860317c9b98fb7",
       "version_major": 2,
       "version_minor": 0
      },
      "text/plain": [
       "Text(value='', description='Subject:', placeholder='Enter a subject')"
      ]
     },
     "metadata": {},
     "output_type": "display_data"
    },
    {
     "data": {
      "application/vnd.jupyter.widget-view+json": {
       "model_id": "feb503e0ff2d42959267122dc15a41c3",
       "version_major": 2,
       "version_minor": 0
      },
      "text/plain": [
       "Output()"
      ]
     },
     "metadata": {},
     "output_type": "display_data"
    }
   ],
   "source": [
    "\n",
    "import pandas as pd\n",
    "import numpy as np\n",
    "import ipywidgets as widgets\n",
    "from IPython.display import display\n",
    "\n",
    "# Set a random seed for reproducibility\n",
    "np.random.seed(42)\n",
    "\n",
    "# Sample data\n",
    "technicians = np.array(['Technician 4', 'Technician 1', 'Technician 3', 'Technician 5', 'Technician 2', 'Technician Sey', 'Technician Rod'], dtype=object)\n",
    "subjects = np.array(['CashHandler', 'GBRU', 'Idle/Freeze', 'Card Reader', 'Receipt printer', 'Cassette', 'Dispencer', 'Application issue', 'Physical Check', 'Stock Count', 'Hard Disk', 'SCPM', 'Bunch Note Acceptor BNA', 'Pick Modules', 'SPS', 'Forex', 'PM', 'Door Lock', 'Journal printer', 'Retrieve Log', 'Advert panel', 'Display Faulty', 'Presenter', 'GOP', 'EPP', 'E-journal', 'Software Installation patch', 'Envelope Dispenser', 'Vandalism', 'Estoril Pc Core', 'FDK', 'Fascia', 'Envelope Depository', 'No Power', 'Operator Panel', 'HSM', 'PC Core', 'Communication issue', 'Vandal Glass', 'Encryptor', 'Combination Lock', 'S2 Media Dispenser', 'Harness', 'Contactless Card Reader', 'Pin Guard', 'Collect Parts', 'Commissioning', 'Decommissioning'], dtype=object)\n",
    "\n",
    "data = {'Technician': np.random.choice(technicians, 100),\n",
    "        'Subject': np.random.choice(subjects, 100)}\n",
    "df2 = pd.DataFrame(data)\n",
    "\n",
    "# Create interactive widgets\n",
    "subject_input = widgets.Text(\n",
    "    value='',\n",
    "    placeholder='Enter a subject',\n",
    "    description='Subject:'\n",
    ")\n",
    "\n",
    "output = widgets.Output()\n",
    "\n",
    "def suggest_technician(change):\n",
    "    output.clear_output()\n",
    "    subject = subject_input.value\n",
    "    if subject:\n",
    "        # Filter the attendance records for the specific subject\n",
    "        subject_counts = df2[df2['Subject'] == subject].groupby('Technician').size().reset_index(name='Counts')\n",
    "\n",
    "        with output:\n",
    "            if not subject_counts.empty:\n",
    "                # Find the technician who attended the subject the most\n",
    "                most_attended_technician = subject_counts.loc[subject_counts['Counts'].idxmax()]['Technician']\n",
    "                print(f\"For subject '{subject}', suggested technician is: {most_attended_technician}\")\n",
    "            else:\n",
    "                print(f\"No attendance records for '{subject}'.\")\n",
    "\n",
    "# Attach the observer to the input field\n",
    "subject_input.observe(suggest_technician, names='value')\n",
    "\n",
    "display(subject_input, output)\n",
    "\n"
   ]
  },
  {
   "cell_type": "code",
   "execution_count": null,
   "id": "78e321d5",
   "metadata": {},
   "outputs": [],
   "source": []
  }
 ],
 "metadata": {
  "kernelspec": {
   "display_name": "Python 3 (ipykernel)",
   "language": "python",
   "name": "python3"
  },
  "language_info": {
   "codemirror_mode": {
    "name": "ipython",
    "version": 3
   },
   "file_extension": ".py",
   "mimetype": "text/x-python",
   "name": "python",
   "nbconvert_exporter": "python",
   "pygments_lexer": "ipython3",
   "version": "3.9.13"
  }
 },
 "nbformat": 4,
 "nbformat_minor": 5
}
