{
 "cells": [
  {
   "cell_type": "markdown",
   "id": "a2defce8",
   "metadata": {},
   "source": [
    "# Python"
   ]
  },
  {
   "cell_type": "code",
   "execution_count": 1,
   "id": "5d2fe811",
   "metadata": {},
   "outputs": [],
   "source": [
    "import pandas as pd\n",
    "import numpy as np"
   ]
  },
  {
   "cell_type": "code",
   "execution_count": 6,
   "id": "dae2602e",
   "metadata": {},
   "outputs": [
    {
     "name": "stdout",
     "output_type": "stream",
     "text": [
      "Enter any number: 12345\n",
      "The reversed number is: 54321\n"
     ]
    }
   ],
   "source": [
    "def reverse_num(num):\n",
    "    num_reverse = 0\n",
    "    while num > 0:\n",
    "        num_reverse = num_reverse * 10 + num % 10\n",
    "        num = num // 10\n",
    "    return num_reverse\n",
    "\n",
    "num = int(input(\"Enter any number: \"))\n",
    "num_reverse = reverse_num(num)\n",
    "\n",
    "print(f\"The reversed number is: {num_reverse}\")"
   ]
  },
  {
   "cell_type": "code",
   "execution_count": null,
   "id": "608fa2bb",
   "metadata": {},
   "outputs": [],
   "source": []
  }
 ],
 "metadata": {
  "kernelspec": {
   "display_name": "Python 3 (ipykernel)",
   "language": "python",
   "name": "python3"
  },
  "language_info": {
   "codemirror_mode": {
    "name": "ipython",
    "version": 3
   },
   "file_extension": ".py",
   "mimetype": "text/x-python",
   "name": "python",
   "nbconvert_exporter": "python",
   "pygments_lexer": "ipython3",
   "version": "3.9.13"
  }
 },
 "nbformat": 4,
 "nbformat_minor": 5
}
